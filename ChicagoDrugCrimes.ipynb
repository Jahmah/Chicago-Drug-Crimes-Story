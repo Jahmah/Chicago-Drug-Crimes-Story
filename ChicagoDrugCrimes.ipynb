{
 "cells": [
  {
   "cell_type": "code",
   "execution_count": 1,
   "metadata": {},
   "outputs": [],
   "source": [
    "%matplotlib inline"
   ]
  },
  {
   "cell_type": "code",
   "execution_count": 2,
   "metadata": {},
   "outputs": [],
   "source": [
    "# Dependencies\n",
    "import pandas as pd\n",
    "import numpy as np\n",
    "import calendar\n",
    "import matplotlib.pyplot as plt\n",
    "from datetime import datetime\n",
    "import gmaps"
   ]
  },
  {
   "cell_type": "code",
   "execution_count": 3,
   "metadata": {},
   "outputs": [],
   "source": [
    "# Google developer API key\n",
    "from config import gkey\n",
    "\n",
    "# Access maps with unique API key\n",
    "gmaps.configure(api_key=gkey)"
   ]
  },
  {
   "cell_type": "code",
   "execution_count": 4,
   "metadata": {},
   "outputs": [],
   "source": [
    "# Specify the path to the CSV file\n",
    "file = 'C:\\\\Users\\\\Nii\\\\MyTraining\\\\Resources\\\\Chicago_Crimes-2001_to_2018.csv'\n"
   ]
  },
  {
   "cell_type": "code",
   "execution_count": 5,
   "metadata": {},
   "outputs": [],
   "source": [
    "# Read the CSV in pandas. \n",
    "# Ensure the correct encoding is used to read file\n",
    "df = pd.read_csv(file, encoding=\"ISO-8859-1\")"
   ]
  },
  {
   "cell_type": "code",
   "execution_count": 6,
   "metadata": {},
   "outputs": [],
   "source": [
    "# Preview the DataFrame\n",
    "#df.head(2)"
   ]
  },
  {
   "cell_type": "code",
   "execution_count": 7,
   "metadata": {},
   "outputs": [],
   "source": [
    "# List all column names in DataFrame\n",
    "#df.columns"
   ]
  },
  {
   "cell_type": "code",
   "execution_count": 8,
   "metadata": {
    "scrolled": true
   },
   "outputs": [],
   "source": [
    "# Delete unecessary columns in DataFrame\n",
    "crimes_df = df.drop(['Case Number', 'IUCR', 'Arrest','Domestic','Beat',\n",
    "                     'Community Area','FBI Code', 'X Coordinate', 'Y Coordinate', \n",
    "                     'Updated On','Location', 'District'], axis = 1)\n",
    "\n",
    "#crimes_df.head()"
   ]
  },
  {
   "cell_type": "code",
   "execution_count": 9,
   "metadata": {},
   "outputs": [],
   "source": [
    "#crimes_df.columns"
   ]
  },
  {
   "cell_type": "code",
   "execution_count": 10,
   "metadata": {},
   "outputs": [],
   "source": [
    "# Identify incomplete rows\n",
    "#crimes_df.count()"
   ]
  },
  {
   "cell_type": "code",
   "execution_count": 11,
   "metadata": {},
   "outputs": [],
   "source": [
    "# Drop all rows with missing information\n",
    "crimes_df = crimes_df.dropna(how='any')"
   ]
  },
  {
   "cell_type": "code",
   "execution_count": 12,
   "metadata": {},
   "outputs": [],
   "source": [
    "# Verify dropped rows\n",
    "#crimes_df.count()"
   ]
  },
  {
   "cell_type": "code",
   "execution_count": 91,
   "metadata": {},
   "outputs": [
    {
     "data": {
      "text/html": [
       "<div>\n",
       "<style scoped>\n",
       "    .dataframe tbody tr th:only-of-type {\n",
       "        vertical-align: middle;\n",
       "    }\n",
       "\n",
       "    .dataframe tbody tr th {\n",
       "        vertical-align: top;\n",
       "    }\n",
       "\n",
       "    .dataframe thead th {\n",
       "        text-align: right;\n",
       "    }\n",
       "</style>\n",
       "<table border=\"1\" class=\"dataframe\">\n",
       "  <thead>\n",
       "    <tr style=\"text-align: right;\">\n",
       "      <th></th>\n",
       "      <th>ID</th>\n",
       "      <th>Date</th>\n",
       "      <th>Year</th>\n",
       "      <th>Primary Type</th>\n",
       "      <th>Description</th>\n",
       "      <th>Location Description</th>\n",
       "      <th>Block</th>\n",
       "      <th>Ward</th>\n",
       "      <th>Latitude</th>\n",
       "      <th>Longitude</th>\n",
       "    </tr>\n",
       "  </thead>\n",
       "  <tbody>\n",
       "    <tr>\n",
       "      <th>0</th>\n",
       "      <td>10000092</td>\n",
       "      <td>03/18/2015 07:44:00 PM</td>\n",
       "      <td>2015</td>\n",
       "      <td>ASSAULT</td>\n",
       "      <td>AGGRAVATED: HANDGUN</td>\n",
       "      <td>STREET</td>\n",
       "      <td>047XX W OHIO ST</td>\n",
       "      <td>28.0</td>\n",
       "      <td>41.891399</td>\n",
       "      <td>-87.744385</td>\n",
       "    </tr>\n",
       "    <tr>\n",
       "      <th>1</th>\n",
       "      <td>10000094</td>\n",
       "      <td>03/18/2015 11:00:00 PM</td>\n",
       "      <td>2015</td>\n",
       "      <td>OTHER OFFENSES</td>\n",
       "      <td>PAROLE VIOLATION</td>\n",
       "      <td>STREET</td>\n",
       "      <td>066XX S MARSHFIELD AVE</td>\n",
       "      <td>15.0</td>\n",
       "      <td>41.773372</td>\n",
       "      <td>-87.665319</td>\n",
       "    </tr>\n",
       "    <tr>\n",
       "      <th>2</th>\n",
       "      <td>10000095</td>\n",
       "      <td>03/18/2015 10:45:00 PM</td>\n",
       "      <td>2015</td>\n",
       "      <td>ASSAULT</td>\n",
       "      <td>DOMESTIC BATTERY SIMPLE</td>\n",
       "      <td>RESIDENCE</td>\n",
       "      <td>044XX S LAKE PARK AVE</td>\n",
       "      <td>4.0</td>\n",
       "      <td>41.813861</td>\n",
       "      <td>-87.596643</td>\n",
       "    </tr>\n",
       "  </tbody>\n",
       "</table>\n",
       "</div>"
      ],
      "text/plain": [
       "         ID                    Date  Year    Primary Type  \\\n",
       "0  10000092  03/18/2015 07:44:00 PM  2015         ASSAULT   \n",
       "1  10000094  03/18/2015 11:00:00 PM  2015  OTHER OFFENSES   \n",
       "2  10000095  03/18/2015 10:45:00 PM  2015         ASSAULT   \n",
       "\n",
       "               Description Location Description                   Block  Ward  \\\n",
       "0      AGGRAVATED: HANDGUN               STREET         047XX W OHIO ST  28.0   \n",
       "1         PAROLE VIOLATION               STREET  066XX S MARSHFIELD AVE  15.0   \n",
       "2  DOMESTIC BATTERY SIMPLE            RESIDENCE   044XX S LAKE PARK AVE   4.0   \n",
       "\n",
       "    Latitude  Longitude  \n",
       "0  41.891399 -87.744385  \n",
       "1  41.773372 -87.665319  \n",
       "2  41.813861 -87.596643  "
      ]
     },
     "execution_count": 91,
     "metadata": {},
     "output_type": "execute_result"
    }
   ],
   "source": [
    "# Reorganize Columns\n",
    "crimes_df = crimes_df[['ID','Date','Year','Primary Type','Description', 'Location Description',\n",
    "           'Block','Ward','Latitude','Longitude']]\n",
    "\n",
    "crimes_df.head(3)"
   ]
  },
  {
   "cell_type": "code",
   "execution_count": 14,
   "metadata": {},
   "outputs": [],
   "source": [
    "#crimes_df.dtypes"
   ]
  },
  {
   "cell_type": "code",
   "execution_count": 15,
   "metadata": {},
   "outputs": [],
   "source": [
    "#crimes_df['Primary Type'].value_counts()"
   ]
  },
  {
   "cell_type": "code",
   "execution_count": 16,
   "metadata": {},
   "outputs": [
    {
     "data": {
      "text/plain": [
       "THEFT & ROBBERY    2108807\n",
       "ASSAULT            1492914\n",
       "CRIMINAL DAMAGE     869013\n",
       "OTHER OFFENSES      795859\n",
       "NARCOTICS           630713\n",
       "SEX CRIMES           80550\n",
       "Name: Primary Type, dtype: int64"
      ]
     },
     "execution_count": 16,
     "metadata": {},
     "output_type": "execute_result"
    }
   ],
   "source": [
    "# Combine similar offenses together\n",
    "crimes_df[\"Primary Type\"] = crimes_df[\"Primary Type\"].replace({\n",
    "     \"THEFT\": \"THEFT & ROBBERY\", \"BURGLARY\": \"THEFT & ROBBERY\", \"MOTOR VEHICLE THEFT\": \"THEFT & ROBBERY\",\n",
    "     \"ROBBERY\": \"THEFT & ROBBERY\", \"BATTERY\": \"ASSAULT\", \"CRIM SEXUAL ASSAULT\": \"ASSAULT\", \"PROSTITUTION\": \"SEX CRIMES\",\n",
    "     \"SEX OFFENSE\": \"SEX CRIMES\", \"CRIMINAL TRESPASS\": \"CRIMINAL DAMAGE\", \"ARSON\": \"CRIMINAL DAMAGE\", \"OTHER OFFENSE\":\n",
    "     \"OTHER OFFENSES\", \"DECEPTIVE PRACTICE\": \"OTHER OFFENSES\", \"WEAPONS VIOLATION\": \"OTHER OFFENSES\", \"GAMBLING\":\n",
    "     \"OTHER OFFENSES\", \"STALKING\": \"OTHER OFFENSES\", \"KIDNAPPING\": \"OTHER OFFENSES\", \"OBSCENITY\": \"OTHER OFFENSES\",\n",
    "     \"INTIMIDATION\": \"OTHER OFFENSES\", \"RITUALISM\": \"OTHER OFFENSES\", \"HUMAN TRAFFICKING\": \"OTHER OFFENSES\",\n",
    "     \"CONCEALED CARRY LICENSE VIOLATION\": \"OTHER OFFENSES\", \"NON-CRIMINAL (SUBJECT SPECIFIED)\": \"OTHER OFFENSES\",\n",
    "     \"NON-CRIMINAL\": \"OTHER OFFENSES\", \"PUBLIC PEACE VIOLATION\": \"OTHER OFFENSES\", \"OFFENSE INVOLVING CHILDREN\":\n",
    "     \"OTHER OFFENSES\", \"INTERFERENCE WITH PUBLIC OFFICER\": \"OTHER OFFENSES\", \"LIQUOR LAW VIOLATION\": \"OTHER OFFENSES\",\n",
    "     \"NON - CRIMINAL\": \"OTHER OFFENSES\", \"OTHER NARCOTIC VIOLATION\": \"NARCOTICS\", \"PUBLIC INDECENCY\": \"OTHER OFFENSES\",\n",
    "     \"HOMICIDE\": \"ASSAULT\" })\n",
    "\n",
    "crimes_df['Primary Type'].value_counts()"
   ]
  },
  {
   "cell_type": "code",
   "execution_count": 17,
   "metadata": {},
   "outputs": [],
   "source": [
    "crimes_df['Location Description'] = crimes_df['Location Description'].replace({\"SIDEWALK\":\"STREET\", \"ALLEY\":\"STREET\",\n",
    "            \"APARTMENT\":\"RESIDENCE\",\"RESIDENCE-GARAGE\":\"RESIDENCE\",\"RESIDENCE PORCH/HALLWAY\": \n",
    "            \"RESIDENCE\", \"RESIDENTIAL YARD (FRONT/BACK)\":\"RESIDENCE\",\"CHA APARTMENT\": \"RESIDENCE\",\n",
    "            \"CHA HALLWAY/STAIRWELL/ELEVATOR\": \"RESIDENCE\",\"SMALL RETAIL STORE\":\"RETAIL OUTLET\",\"DRUG STORE\":\n",
    "            \"RETAIL OUTLET\",\"GAS STATION\":\"RETAIL OUTLET\",\"DEPARTMENT STORE\":\"RETAIL OUTLET\",\"RETAIL STORES\":\n",
    "            \"RETAIL OUTLET\",\"RESTAURANT\":\"BUSINESS\",\"BAR OR TAVERN\":\"BUSINESS\",\"RESTAURANT\":\"BUSINESS\",\"BANK\":\n",
    "            \"BUSINESS\",\"HOTEL/MOTEL\":\"BUSINESS\",\"VEHICLE NON-COMMERCIAL\":\"VEHICLE\",\"PARKING LOT\":\"PUBLIC BUILDING/GROUNDS\",\n",
    "            \"SCHOOL, PUBLIC, BUILDING\":\"SCHOOL\",\"PARK PROPERTY\":\"PUBLIC BUILDING/GROUNDS\",\"CTA PLATFORM\":\n",
    "            \"PUBLIC BUILDING/GROUNDS\",\"CHA PARKING LOT/GROUNDS\":\"PUBLIC BUILDING/GROUNDS\",\"SCHOOL, PUBLIC, GROUNDS\":\n",
    "            \"SCHOOL\", \"CTA TRAIN\":\"PUBLIC BUILDING/GROUNDS\",\"VACANT LOT/LAND\":\"PUBLIC BUILDING/GROUNDS\",\n",
    "            \"GROCERY FOOD STORE\":\"RETAIL OUTLET\",\"PUBLIC HIGH SCHOOL\":\"SCHOOL\",'CTA \"L\" TRAIN':\n",
    "            \"PUBLIC BUILDING/GROUNDS\",\"PARKING LOT/GARAGE(NON.RESID.)\":\"PUBLIC BUILDING/GROUNDS\",\"CTA BUS\":\"VEHICLE\",\n",
    "            \"TAVERN/LIQUOR STORE\":\"RETAIL OUTLET\",\"HOSPITAL BUILDING/GROUNDS\":\"HOSPITAL\",\n",
    "            \"POLICE FACILITY/VEH PARKING LOT\":\"POLICE BUILDING\",\"CONVENIENCE STORE\":\n",
    "            \"RETAIL OUTLET\",\"CHURCH/SYNAGOGUE/PLACE OF WORSHIP\":\"CHURCH\",\"GOVERNMENT BUILDING/PROPERTY\":\n",
    "            \"FEDERAL BUILDING\",\"SCHOOL, PRIVATE, BUILDING\":\"SCHOOL\",\"GOVERNMENT BUILDING\":\n",
    "            \"FEDERAL BUILDING\",\"CONSTRUCTION SITE\":\"BUSINESS\",\"WAREHOUSE\":\"BUSINESS\",\"AIRCRAFT\":\"AIRPORT\",\n",
    "            \"ABANDONED BUILDING\":\"OTHER\",\"CTA GARAGE / OTHER PROPERTY\":\"PUBLIC BUILDING/GROUNDS\",\"TAXICAB\":\"VEHICLE\",\n",
    "            \"CTA BUS STOP\":\"PUBLIC BUILDING/GROUNDS\",\"BARBERSHOP\":\"BUSINESS\",\"CURRENCY EXCHANGE\":\"BUSINESS\",\"LIBRARY\":\n",
    "            \"PUBLIC BUILDING/GROUNDS\",\"ATHLETIC CLUB\":\"PUBLIC BUILDING/GROUNDS\",\"MEDICAL/DENTAL OFFICE\":\"BUSINESS\",\n",
    "            \"FACTORY/MANUFACTURING BUILDING\":\"BUSINESS\",\"COMMERCIAL / BUSINESS OFFICE\":\"BUSINESS\",\"SCHOOL, PRIVATE, GROUNDS\":\n",
    "            \"SCHOOL\",\"CLEANING STORE\":\"RETAIL OUTLET\",\"VEHICLE-COMMERCIAL\":\"VEHICLE\",\"COLLEGE/UNIVERSITY GROUNDS\":\"SCHOOL\",\n",
    "            \"DRIVEWAY - RESIDENTIAL\":\"RESIDENCE\",\"SPORTS ARENA/STADIUM\":\"PUBLIC BUILDING/GROUNDS\",\"CTA STATION\":\n",
    "            \"PUBLIC BUILDING/GROUNDS\",\"ATM (AUTOMATIC TELLER MACHINE)\":\"BUSINESS\",\"DAY CARE CENTER\":\"SCHOOL\",\"BUSINESS\":\n",
    "            \"BUSINESS\",\"CAR WASH\":\"BUSINESS\",\"AUTO\":\"VEHICLE\",\"COLLEGE/UNIVERSITY RESIDENCE HALL\":\"SCHOOL\",\"MOVIE HOUSE/THEATER\":\n",
    "            \"RETAIL OUTLET\", \"APPLIANCE STORE\":\"RETAIL OUTLET\",\"HIGHWAY/EXPRESSWAY\":\"STREET\",\"LAKEFRONT/WATERFRONT/RIVERBANK\":\n",
    "            \"OTHER\",\"AIRPORT TERMINAL UPPER LEVEL - SECURE AREA\":\"AIRPORT\",\"AIRPORT TERMINAL LOWER LEVEL - NON-SECURE AREA\":\n",
    "            \"AIRPORT\",\"AIRPORT BUILDING NON-TERMINAL - NON-SECURE AREA\":\"AIRPORT\",\"AIRPORT VENDING ESTABLISHMENT\":\"AIRPORT\",\n",
    "            \"AIRPORT TERMINAL LOWER LEVEL - SECURE AREA\":\"AIRPORT\",\"AIRPORT BUILDING NON-TERMINAL - SECURE AREA\":\"AIRPORT\",\n",
    "            \"DELIVERY TRUCK\":\"VEHICLE\",\"ANIMAL HOSPITAL\":\"HOSPITAL\",\"AIRPORT TERMINAL UPPER LEVEL - NON-SECURE AREA\":\"AIRPORT\",\n",
    "            \"AIRPORT PARKING LOT\":\"AIRPORT\",\"OTHER COMMERCIAL TRANSPORTATION\":\"VEHICLE\",\"VEHICLE - OTHER RIDE SERVICE\":\"VEHICLE\",\n",
    "            \"CREDIT UNION\":\"BUSINESS\",\"AIRPORT EXTERIOR - NON-SECURE AREA\":\"AIRPORT\",\"HOUSE\":\"RESIDENCE\",\"AIRPORT EXTERIOR - SECURE AREA\":\n",
    "            \"AIRPORT\", \"POOL ROOM\":\"OTHER\",\"COIN OPERATED MACHINE\":\"OTHER\",\"PAWN SHOP\":\"OTHER\",\"YARD\":\"OTHER\",\"BOWLING ALLEY\":\"OTHER\",\n",
    "            \"BOAT/WATERCRAFT\":\"OTHER\",\"BRIDGE\":\"STREET\",\"CEMETERY\":\"PUBLIC BUILDING/GROUNDS\",\"FOREST PRESERVE\":\n",
    "            \"OTHER\",\"SAVINGS AND LOAN\":\"BUSINESS\",\"VACANT LOT\":\"OTHER\",\"GANGWAY\":\"AIRPORT\",\"PUBLIC BUILDING/GROUND\":\"PUBLIC BUILDING/GROUNDS\",\n",
    "            \"VEHICLE - OTHER RIDE SHARE SERVICE (E.G., UBER, LYFT)\":\"VEHICLE\",\"PORCH\":\"RESIDENCE\",\"NEWSSTAND\":\"STREET\",\"RETAIL STORE\":\"RETAIL OUTLET\",\n",
    "            \"AIRPORT TERMINAL MEZZANINE - NON-SECURE AREA\":\"AIRPORT\",\"AIRPORT TRANSPORTATION SYSTEM (ATS)\":\"AIRPORT\",\"HALLWAY\":\"OTHER\",\n",
    "            \"VEHICLE - DELIVERY TRUCK\":\"VEHICLE\",\"AUTO / BOAT / RV DEALERSHIP\":\"BUSINESS\",\"CEMETARY\":\"PUBLIC BUILDING/GROUNDS\",\"GARAGE\":\"OTHER\",\n",
    "            \"CTA TRACKS - RIGHT OF WAY\":\"OTHER\",\"CHA PARKING LOT\":\"PUBLIC BUILDING/GROUNDS\",\"GAS STATION DRIVE/PROP.\":\"RETAIL OUTLET\",\n",
    "            \"CHA GROUNDS\":\"PUBLIC BUILDING/GROUNDS\",\"TAVERN\":\"BUSINESS\",\"BASEMENT\":\"RESIDENCE\",\"CHA HALLWAY\":\"RESIDENCE\",\"OFFICE\":\"BUSINESS\",\n",
    "            \"DRIVEWAY\":\"RESIDENCE\",\"VESTIBULE\":\"OTHER\",\"STAIRWELL\":\"OTHER\",\"HOTEL\":\"BUSINESS\",\"CLUB\":\"BUSINESS\",\"OFFICE\":\"BUSINESS\",\"BARBER SHOP/BEAUTY SALON\":\n",
    "            \"BUSINESS\",\"SCHOOL YARD\":\"SCHOOL\",\"RAILROAD PROPERTY\":\"PUBLIC BUILDING/GROUNDS\",\"PUBLIC GRAMMAR SCHOOL\":\"SCHOOL\",\"TRUCK\":\"VEHICLE\",\"TAXI CAB\":\n",
    "            \"VEHICLE\",\"DUMPSTER\":\"VEHICLE\",\"MOTEL\":\"BUSINESS\",\"CHA LOBBY\":\"PUBLIC BUILDING/GROUNDS\",\"CHA STAIRWELL\":\"PUBLIC BUILDING/GROUNDS\",\n",
    "            \"GARAGE/AUTO REPAIR\":\"BUSINESS\",\"LIQUOR STORE\":\"RETAIL OUTLET\",\"NURSING HOME\":\"HOSPITAL\",\"CTA PROPERTY\":\"PUBLIC BUILDING/GROUNDS\",\"TRAILER\":\"OTHER\",\n",
    "            \"YMCA\":\"OTHER\",\"LAKE\":\"OTHER\",\"VEHICLE-COMMERCIAL - TROLLEY BUS\":\"VEHICLE\",\"VEHICLE-COMMERCIAL - ENTERTAINMENT/PARTY BUS\":\"VEHICLE\",\"RIVER\":\"OTHER\",\n",
    "            \"KENNEL\":\"OTHER\",\"FUNERAL PARLOR\":\"BUSINESS\",\"BANQUET HALL\":\"OTHER\",\"ROOMING HOUSE\":\"OTHER\",\"LIVERY STAND OFFICE\":\"BUSINESS\",\n",
    "            \"LAUNDRY ROOM\":\"OTHER\",\"PRAIRIE\":\"OTHER\",\"RIVER BANK\":\"OTHER\",\"COACH HOUSE\":\"OTHER\",\"SEWER\":\"OTHER\",\"LAGOON\":\"OTHER\",\"CLEANERS/LAUNDROMAT\":\"BUSINESS\",\n",
    "            \"HORSE STABLE\":\"OTHER\",\"FACTORY\":\"BUSINESS\",\"CHA BREEZEWAY\":\"OTHER\",\"CHA ELEVATOR\":\"PUBLIC BUILDING/GROUNDS\",\"FARM\":\"OTHER\",\"ELEVATOR\":\"OTHER\",\n",
    "            \"POOLROOM\":\"OTHER\",\"WOODED AREA\":\"OTHER\",\"LOADING DOCK\":\"OTHER\",\"TRUCKING TERMINAL\":\"OTHER\",\"LIVERY AUTO\":\"BUSINESS\",\"CHURCH PROPERTY\":\"CHURCH\",\n",
    "            \"EXPRESSWAY EMBANKMENT\":\"STREET\",\"CHA PLAY LOT\":\"PUBLIC BUILDING/GROUNDS\",'CTA \"L\" PLATFORM':\"PUBLIC BUILDING/GROUNDS\",\"JUNK YARD/GARBAGE DUMP\":\n",
    "            \"OTHER\",\"COUNTY JAIL\":\"POLICE/FIRE STATION\",\"JAIL / LOCK-UP FACILITY\":\"POLICE/FIRE STATION\",\"POLICE BUILDING\":\"POLICE/FIRE STATION\",\n",
    "            \"NURSING HOME/RETIREMENT HOME\":\"HOSPITAL\", \"FIRE STATION\":\"POLICE/FIRE STATION\",\"OTHER RAILROAD PROP / TRAIN DEPOT\":\"PUBLIC BUILDING/GROUNDS\",\"AIPORT/AIRCRAFT\":\n",
    "            \"AIRPORT/AIRCRAFT\",\"AIRPORT\": \"AIRPORT/AIRCRAFT\",\"HOSPITAL\":\"PUBLIC BUILDING/GROUNDS\",\"CHURCH\":\"OTHER\",\"FEDERAL BUILDING\":\"PUBLIC BUILDING/GROUNDS\",\n",
    "            \"POLICE/FIRE STATION\":\"PUBLIC BUILDING/GROUNDS\",\"AIRPORT/AIRCRAFT\":\"PUBLIC BUILDING/GROUNDS\",\"PUBLIC BUILDING/GROUNDS\":\"PUBLIC BLDG\"                                        \n",
    "            })"
   ]
  },
  {
   "cell_type": "code",
   "execution_count": 90,
   "metadata": {},
   "outputs": [
    {
     "data": {
      "text/html": [
       "<div>\n",
       "<style scoped>\n",
       "    .dataframe tbody tr th:only-of-type {\n",
       "        vertical-align: middle;\n",
       "    }\n",
       "\n",
       "    .dataframe tbody tr th {\n",
       "        vertical-align: top;\n",
       "    }\n",
       "\n",
       "    .dataframe thead th {\n",
       "        text-align: right;\n",
       "    }\n",
       "</style>\n",
       "<table border=\"1\" class=\"dataframe\">\n",
       "  <thead>\n",
       "    <tr style=\"text-align: right;\">\n",
       "      <th></th>\n",
       "      <th>No. of Drug Crimes</th>\n",
       "    </tr>\n",
       "  </thead>\n",
       "  <tbody>\n",
       "    <tr>\n",
       "      <th>STREET</th>\n",
       "      <td>2299708</td>\n",
       "    </tr>\n",
       "    <tr>\n",
       "      <th>RESIDENCE</th>\n",
       "      <td>1990768</td>\n",
       "    </tr>\n",
       "    <tr>\n",
       "      <th>PUBLIC BLDG</th>\n",
       "      <td>462197</td>\n",
       "    </tr>\n",
       "  </tbody>\n",
       "</table>\n",
       "</div>"
      ],
      "text/plain": [
       "             No. of Drug Crimes\n",
       "STREET                  2299708\n",
       "RESIDENCE               1990768\n",
       "PUBLIC BLDG              462197"
      ]
     },
     "execution_count": 90,
     "metadata": {},
     "output_type": "execute_result"
    }
   ],
   "source": [
    "#crimes_df['Location Description'].value_counts()\n",
    "all_crime_locations = pd.DataFrame({\"No. of Drug Crimes\":crimes_df['Location Description'].value_counts()})\n",
    "\n",
    "all_crime_locations.head(3)"
   ]
  },
  {
   "cell_type": "code",
   "execution_count": 19,
   "metadata": {
    "scrolled": true
   },
   "outputs": [
    {
     "data": {
      "text/html": [
       "<div>\n",
       "<style scoped>\n",
       "    .dataframe tbody tr th:only-of-type {\n",
       "        vertical-align: middle;\n",
       "    }\n",
       "\n",
       "    .dataframe tbody tr th {\n",
       "        vertical-align: top;\n",
       "    }\n",
       "\n",
       "    .dataframe thead th {\n",
       "        text-align: right;\n",
       "    }\n",
       "</style>\n",
       "<table border=\"1\" class=\"dataframe\">\n",
       "  <thead>\n",
       "    <tr style=\"text-align: right;\">\n",
       "      <th></th>\n",
       "      <th>ID</th>\n",
       "      <th>Date</th>\n",
       "      <th>Year</th>\n",
       "      <th>Primary Type</th>\n",
       "      <th>Description</th>\n",
       "      <th>Location Description</th>\n",
       "      <th>Block</th>\n",
       "      <th>Ward</th>\n",
       "      <th>Latitude</th>\n",
       "      <th>Longitude</th>\n",
       "    </tr>\n",
       "  </thead>\n",
       "  <tbody>\n",
       "    <tr>\n",
       "      <th>8</th>\n",
       "      <td>10000101</td>\n",
       "      <td>03/18/2015 10:09:00 PM</td>\n",
       "      <td>2015</td>\n",
       "      <td>NARCOTICS</td>\n",
       "      <td>POSS: CANNABIS 30GMS OR LESS</td>\n",
       "      <td>STREET</td>\n",
       "      <td>036XX S WOLCOTT AVE</td>\n",
       "      <td>11.0</td>\n",
       "      <td>41.828138</td>\n",
       "      <td>-87.672782</td>\n",
       "    </tr>\n",
       "    <tr>\n",
       "      <th>36</th>\n",
       "      <td>10000139</td>\n",
       "      <td>03/19/2015 01:15:00 AM</td>\n",
       "      <td>2015</td>\n",
       "      <td>NARCOTICS</td>\n",
       "      <td>POSS: CANNABIS 30GMS OR LESS</td>\n",
       "      <td>STREET</td>\n",
       "      <td>035XX W CERMAK RD</td>\n",
       "      <td>22.0</td>\n",
       "      <td>41.851682</td>\n",
       "      <td>-87.713304</td>\n",
       "    </tr>\n",
       "  </tbody>\n",
       "</table>\n",
       "</div>"
      ],
      "text/plain": [
       "          ID                    Date  Year Primary Type  \\\n",
       "8   10000101  03/18/2015 10:09:00 PM  2015    NARCOTICS   \n",
       "36  10000139  03/19/2015 01:15:00 AM  2015    NARCOTICS   \n",
       "\n",
       "                     Description Location Description                Block  \\\n",
       "8   POSS: CANNABIS 30GMS OR LESS               STREET  036XX S WOLCOTT AVE   \n",
       "36  POSS: CANNABIS 30GMS OR LESS               STREET    035XX W CERMAK RD   \n",
       "\n",
       "    Ward   Latitude  Longitude  \n",
       "8   11.0  41.828138 -87.672782  \n",
       "36  22.0  41.851682 -87.713304  "
      ]
     },
     "execution_count": 19,
     "metadata": {},
     "output_type": "execute_result"
    }
   ],
   "source": [
    "# Filter the data so that only those listd as 'Narcotics' are in a DataFrame\n",
    "drugs_crime_df = crimes_df.loc[crimes_df[\"Primary Type\"] == \"NARCOTICS\", :]\n",
    "\n",
    "drugs_crime_df.head(2)"
   ]
  },
  {
   "cell_type": "code",
   "execution_count": null,
   "metadata": {},
   "outputs": [],
   "source": [
    "# Convert the Date column to a datetime type \n",
    "drugs_crime_df['Date'] = pd.to_datetime(drugs_crime_df['Date'])"
   ]
  },
  {
   "cell_type": "code",
   "execution_count": null,
   "metadata": {},
   "outputs": [],
   "source": [
    "# Separate the time element of the Date column into a new column \n",
    "drugs_crime_df['Time'] = drugs_crime_df['Date'].dt.time"
   ]
  },
  {
   "cell_type": "code",
   "execution_count": null,
   "metadata": {
    "scrolled": true
   },
   "outputs": [],
   "source": [
    "# Separate the Month element of the Date column into a new column \n",
    "drugs_crime_df['Month'] = drugs_crime_df['Date'].dt.month\n",
    "\n",
    "# Use a list comprehension and apply function to convert month as number to a string\n",
    "drugs_crime_df['Month'] = drugs_crime_df['Month'].apply(lambda x: calendar.month_abbr[x])\n"
   ]
  },
  {
   "cell_type": "code",
   "execution_count": null,
   "metadata": {},
   "outputs": [],
   "source": [
    "# Combine similar offenses together\n",
    "drugs_crime_df['Description'] = drugs_crime_df[\"Description\"].replace({\"POSS: CANNABIS 30GMS OR LESS\":\"CANNABIS\",\n",
    "                                \"POSS CRACK\":'COCAINE',\"POSS: HEROIN(WHITE)\":\"HEROIN\",\"POSS: COCAINE\":\"COCAINE\",\n",
    "                               \"MANU/DELIVER: HEROIN (WHITE)\":\"HEROIN\",\"POSS: CANNABIS MORE THAN 30GMS\":\"CANNABIS\",\n",
    "                                \"MANU/DEL:CANNABIS OVER 10 GMS\":\"CANNABIS\",\"ATTEMPT POSSESSION CANNABIS\":\"CANNABIS\",\n",
    "                                \"CANNABIS PLANT\":\"CANNABIS\",\"POSSESSION: SYNTHETIC MARIJUANA\":\"CANNABIS\",\n",
    "                                \"DELIVER CANNABIS TO PERSON <18\":\"CANNABIS\",\"MANU/POSS. W/INTENT TO DELIVER: SYNTHETIC MARIJUANA\":\n",
    "                                \"CANNABIS\",\"MANU/DEL:CANNABIS 10GM OR LESS\":\"CANNABIS\",\"POSS: CRACK\":\"COCAINE\",\"POSS: PCP\":\"OTHERS\",\n",
    "                                \"POSS: SYNTHETIC DRUGS\":\"OTHERS\",\"POSS: HEROIN(BRN/TAN)\":\"OTHERS\",\"MANU/DELIVER:CRACK\":\"COCAINE\",\n",
    "                                \"POSS: HALLUCINOGENS\":\"OTHERS\",\"MANU/DELIVER:COCAINE\":\"COCAINE\",\"CALCULATED CANNABIS CONSPIRACY\":\n",
    "                                \"CANNABIS\",\"ALTER/FORGE PRESCRIPTION\":\"OTHERS\",\"POSS: BARBITUATES\":\"OTHERS\",\"POS: HYPODERMIC NEEDLE\":\n",
    "                                \"HEROIN\",\"POSS: AMPHETAMINES\": \"OTHERS\",\"SALE/DEL HYPODERMIC NEEDLE\": \"HEROIN\",\"SOLICIT NARCOTICS ON PUBLICWAY\":\n",
    "                                \"CANNABIS\",\"ATTEMPT POSSESSION NARCOTICS\": \"CANNABIS\", \"ATTEMPT POSSESSION NARCOTICS\": \"CANNABIS\",\n",
    "                                \"INTOXICATING COMPOUNDS\":\"OTHERS\", \"CRIMINAL DRUG CONSPIRACY\": \"OTHERS\", \"FOUND SUSPECT NARCOTICS\": \"CANNABIS\",\n",
    "                                \"POSSESSION OF DRUG EQUIPMENT\": \"OTHERS\",\"FORFEIT PROPERTY\": \"OTHERS\", \"POSSESSION OF DRUG EQUIPMENT\": \"OTHERS\",\n",
    "                                \"MANU/DELIVER: HEROIN(BRN/TAN)\": \"HEROIN\", \"MANU/DELIVER: HALLUCINOGEN\": \"OTHERS\", \"POSS: METHAMPHETAMINES\": \"OTHERS\",\n",
    "                                \"MANU/DELIVER:PCP\": \"OTHERS\", \"POSS: HEROIN(BLACK TAR\": \"HEROIN\", \"MANU/DELIVER:BARBITUATES\": \"OTHERS\",\n",
    "                                \"MANU/DELIVER:SYNTHETIC DRUGS\": \"OTHERS\",\"SALE/DEL DRUG PARAPHERNALIA\":\"OTHERS\",\"CONT SUBS:FAIL TO MAINT RECORD\":\n",
    "                                \"OTHERS\",\"FAIL REGISTER LIC:CONT SUBS\":\"OTHERS\",\"FAILURE TO KEEP HYPO RECORDS\":\"OTHERS\",\"POSS: HEROIN(BLACK TAR)\": \n",
    "                                \"HEROIN\", \"POSS: LOOK-ALIKE DRUGS\":\"OTHERS\",\"MANU/DELIVER:AMPHETAMINES\": \"OTHERS\",\"MANU/DELIVER: METHAMPHETAMINES\":\n",
    "                                \"OTHERS\", \"DEL CONT SUBS TO PERSON <18\":\"OTHERS\", \"MANU/DELIVER:HEROIN(BLACK TAR)\":\"HEROIN\",\n",
    "                                \"MANU/DELIVER:LOOK-ALIKE DRUG\":\"OTHERS\"\n",
    "                                 })\n",
    "                                                                              "
   ]
  },
  {
   "cell_type": "code",
   "execution_count": null,
   "metadata": {},
   "outputs": [],
   "source": [
    "drugs_crime_df['Description'].value_counts()"
   ]
  },
  {
   "cell_type": "code",
   "execution_count": 26,
   "metadata": {},
   "outputs": [
    {
     "data": {
      "text/html": [
       "<div>\n",
       "<style scoped>\n",
       "    .dataframe tbody tr th:only-of-type {\n",
       "        vertical-align: middle;\n",
       "    }\n",
       "\n",
       "    .dataframe tbody tr th {\n",
       "        vertical-align: top;\n",
       "    }\n",
       "\n",
       "    .dataframe thead th {\n",
       "        text-align: right;\n",
       "    }\n",
       "</style>\n",
       "<table border=\"1\" class=\"dataframe\">\n",
       "  <thead>\n",
       "    <tr style=\"text-align: right;\">\n",
       "      <th></th>\n",
       "      <th>ID</th>\n",
       "      <th>Date</th>\n",
       "      <th>Year</th>\n",
       "      <th>Month</th>\n",
       "      <th>Time</th>\n",
       "      <th>Primary Type</th>\n",
       "      <th>Description</th>\n",
       "      <th>Location Description</th>\n",
       "      <th>Block</th>\n",
       "      <th>Ward</th>\n",
       "      <th>Latitude</th>\n",
       "      <th>Longitude</th>\n",
       "    </tr>\n",
       "  </thead>\n",
       "  <tbody>\n",
       "    <tr>\n",
       "      <th>8</th>\n",
       "      <td>10000101</td>\n",
       "      <td>2015-03-18 22:09:00</td>\n",
       "      <td>2015</td>\n",
       "      <td>Mar</td>\n",
       "      <td>22:09:00</td>\n",
       "      <td>NARCOTICS</td>\n",
       "      <td>CANNABIS</td>\n",
       "      <td>STREET</td>\n",
       "      <td>036XX S WOLCOTT AVE</td>\n",
       "      <td>11.0</td>\n",
       "      <td>41.828138</td>\n",
       "      <td>-87.672782</td>\n",
       "    </tr>\n",
       "    <tr>\n",
       "      <th>36</th>\n",
       "      <td>10000139</td>\n",
       "      <td>2015-03-19 01:15:00</td>\n",
       "      <td>2015</td>\n",
       "      <td>Mar</td>\n",
       "      <td>01:15:00</td>\n",
       "      <td>NARCOTICS</td>\n",
       "      <td>CANNABIS</td>\n",
       "      <td>STREET</td>\n",
       "      <td>035XX W CERMAK RD</td>\n",
       "      <td>22.0</td>\n",
       "      <td>41.851682</td>\n",
       "      <td>-87.713304</td>\n",
       "    </tr>\n",
       "  </tbody>\n",
       "</table>\n",
       "</div>"
      ],
      "text/plain": [
       "          ID                Date  Year Month      Time Primary Type  \\\n",
       "8   10000101 2015-03-18 22:09:00  2015   Mar  22:09:00    NARCOTICS   \n",
       "36  10000139 2015-03-19 01:15:00  2015   Mar  01:15:00    NARCOTICS   \n",
       "\n",
       "   Description Location Description                Block  Ward   Latitude  \\\n",
       "8     CANNABIS               STREET  036XX S WOLCOTT AVE  11.0  41.828138   \n",
       "36    CANNABIS               STREET    035XX W CERMAK RD  22.0  41.851682   \n",
       "\n",
       "    Longitude  \n",
       "8  -87.672782  \n",
       "36 -87.713304  "
      ]
     },
     "execution_count": 26,
     "metadata": {},
     "output_type": "execute_result"
    }
   ],
   "source": [
    "# Reorganize Columns\n",
    "drugs_crime_df = drugs_crime_df[['ID','Date','Year','Month','Time','Primary Type','Description', 'Location Description',\n",
    "                                 'Block','Ward','Latitude','Longitude']]\n",
    "\n",
    "drugs_crime_df.head(2)"
   ]
  },
  {
   "cell_type": "code",
   "execution_count": 27,
   "metadata": {},
   "outputs": [
    {
     "data": {
      "text/html": [
       "<div>\n",
       "<style scoped>\n",
       "    .dataframe tbody tr th:only-of-type {\n",
       "        vertical-align: middle;\n",
       "    }\n",
       "\n",
       "    .dataframe tbody tr th {\n",
       "        vertical-align: top;\n",
       "    }\n",
       "\n",
       "    .dataframe thead th {\n",
       "        text-align: right;\n",
       "    }\n",
       "</style>\n",
       "<table border=\"1\" class=\"dataframe\">\n",
       "  <thead>\n",
       "    <tr style=\"text-align: right;\">\n",
       "      <th></th>\n",
       "      <th>Year</th>\n",
       "      <th>No. of Drug Crimes</th>\n",
       "    </tr>\n",
       "  </thead>\n",
       "  <tbody>\n",
       "    <tr>\n",
       "      <th>0</th>\n",
       "      <td>2001</td>\n",
       "      <td>120</td>\n",
       "    </tr>\n",
       "    <tr>\n",
       "      <th>1</th>\n",
       "      <td>2002</td>\n",
       "      <td>33980</td>\n",
       "    </tr>\n",
       "  </tbody>\n",
       "</table>\n",
       "</div>"
      ],
      "text/plain": [
       "   Year  No. of Drug Crimes\n",
       "0  2001                 120\n",
       "1  2002               33980"
      ]
     },
     "execution_count": 27,
     "metadata": {},
     "output_type": "execute_result"
    }
   ],
   "source": [
    "# Creating a new DataFrame using both Year and Primary Type\n",
    "drugs_crime_year = pd.DataFrame({\"No. of Drug Crimes\":drugs_crime_df.groupby(['Year'])['Primary Type'].count()})\n",
    "\n",
    "# Reset index and sort values by Year\n",
    "drugs_crime_year = drugs_crime_year.reset_index()\n",
    "drugs_crime_year = drugs_crime_year.sort_values('Year', ascending=True)\n",
    "                                         \n",
    "drugs_crime_year.head(2)"
   ]
  },
  {
   "cell_type": "code",
   "execution_count": 89,
   "metadata": {},
   "outputs": [
    {
     "data": {
      "text/html": [
       "<div>\n",
       "<style scoped>\n",
       "    .dataframe tbody tr th:only-of-type {\n",
       "        vertical-align: middle;\n",
       "    }\n",
       "\n",
       "    .dataframe tbody tr th {\n",
       "        vertical-align: top;\n",
       "    }\n",
       "\n",
       "    .dataframe thead th {\n",
       "        text-align: right;\n",
       "    }\n",
       "</style>\n",
       "<table border=\"1\" class=\"dataframe\">\n",
       "  <thead>\n",
       "    <tr style=\"text-align: right;\">\n",
       "      <th></th>\n",
       "      <th>Month</th>\n",
       "      <th>No. of Drug Crimes</th>\n",
       "    </tr>\n",
       "  </thead>\n",
       "  <tbody>\n",
       "    <tr>\n",
       "      <th>8</th>\n",
       "      <td>May</td>\n",
       "      <td>55598</td>\n",
       "    </tr>\n",
       "    <tr>\n",
       "      <th>7</th>\n",
       "      <td>Mar</td>\n",
       "      <td>55545</td>\n",
       "    </tr>\n",
       "    <tr>\n",
       "      <th>1</th>\n",
       "      <td>Aug</td>\n",
       "      <td>55265</td>\n",
       "    </tr>\n",
       "  </tbody>\n",
       "</table>\n",
       "</div>"
      ],
      "text/plain": [
       "  Month  No. of Drug Crimes\n",
       "8   May               55598\n",
       "7   Mar               55545\n",
       "1   Aug               55265"
      ]
     },
     "execution_count": 89,
     "metadata": {},
     "output_type": "execute_result"
    }
   ],
   "source": [
    "# Creating a new DataFrame using Month and Primary Type columns\n",
    "drugs_crime_month = pd.DataFrame({\"No. of Drug Crimes\":drugs_crime_df.groupby(['Month'])['Primary Type'].count() })\n",
    "\n",
    "# Reset index and sort values by number of drug crimes\n",
    "drugs_crime_month = drugs_crime_month.reset_index()\n",
    "drugs_crime_month = drugs_crime_month.sort_values('No. of Drug Crimes', ascending=False)\n",
    "\n",
    "drugs_crime_month.head(3)"
   ]
  },
  {
   "cell_type": "code",
   "execution_count": 29,
   "metadata": {},
   "outputs": [
    {
     "data": {
      "text/html": [
       "<div>\n",
       "<style scoped>\n",
       "    .dataframe tbody tr th:only-of-type {\n",
       "        vertical-align: middle;\n",
       "    }\n",
       "\n",
       "    .dataframe tbody tr th {\n",
       "        vertical-align: top;\n",
       "    }\n",
       "\n",
       "    .dataframe thead th {\n",
       "        text-align: right;\n",
       "    }\n",
       "</style>\n",
       "<table border=\"1\" class=\"dataframe\">\n",
       "  <thead>\n",
       "    <tr style=\"text-align: right;\">\n",
       "      <th></th>\n",
       "      <th>Location Description</th>\n",
       "      <th>Crime_count</th>\n",
       "    </tr>\n",
       "  </thead>\n",
       "  <tbody>\n",
       "    <tr>\n",
       "      <th>6</th>\n",
       "      <td>STREET</td>\n",
       "      <td>464676</td>\n",
       "    </tr>\n",
       "    <tr>\n",
       "      <th>3</th>\n",
       "      <td>RESIDENCE</td>\n",
       "      <td>55596</td>\n",
       "    </tr>\n",
       "  </tbody>\n",
       "</table>\n",
       "</div>"
      ],
      "text/plain": [
       "  Location Description  Crime_count\n",
       "6               STREET       464676\n",
       "3            RESIDENCE        55596"
      ]
     },
     "execution_count": 29,
     "metadata": {},
     "output_type": "execute_result"
    }
   ],
   "source": [
    "# Create a dataframe by grouping Location Description and counting Primary Type\n",
    "drugs_crime_locations = pd.DataFrame({\"Crime_count\": drugs_crime_df.groupby(['Location Description'])['Primary Type'].count() })\n",
    "\n",
    "# Reset index and sort values by crime count\n",
    "drugs_crime_locations = drugs_crime_locations.reset_index()\n",
    "drugs_crime_locations = drugs_crime_locations.sort_values('Crime_count', ascending=False)\n",
    "\n",
    "drugs_crime_locations.head(2)"
   ]
  },
  {
   "cell_type": "code",
   "execution_count": 56,
   "metadata": {},
   "outputs": [
    {
     "data": {
      "text/html": [
       "<div>\n",
       "<style scoped>\n",
       "    .dataframe tbody tr th:only-of-type {\n",
       "        vertical-align: middle;\n",
       "    }\n",
       "\n",
       "    .dataframe tbody tr th {\n",
       "        vertical-align: top;\n",
       "    }\n",
       "\n",
       "    .dataframe thead th {\n",
       "        text-align: right;\n",
       "    }\n",
       "</style>\n",
       "<table border=\"1\" class=\"dataframe\">\n",
       "  <thead>\n",
       "    <tr style=\"text-align: right;\">\n",
       "      <th></th>\n",
       "      <th>No. of Crimes</th>\n",
       "    </tr>\n",
       "    <tr>\n",
       "      <th>Time</th>\n",
       "      <th></th>\n",
       "    </tr>\n",
       "  </thead>\n",
       "  <tbody>\n",
       "    <tr>\n",
       "      <th>0</th>\n",
       "      <td>2792</td>\n",
       "    </tr>\n",
       "    <tr>\n",
       "      <th>1</th>\n",
       "      <td>2354</td>\n",
       "    </tr>\n",
       "    <tr>\n",
       "      <th>2</th>\n",
       "      <td>1856</td>\n",
       "    </tr>\n",
       "  </tbody>\n",
       "</table>\n",
       "</div>"
      ],
      "text/plain": [
       "      No. of Crimes\n",
       "Time               \n",
       "0              2792\n",
       "1              2354\n",
       "2              1856"
      ]
     },
     "execution_count": 56,
     "metadata": {},
     "output_type": "execute_result"
    }
   ],
   "source": [
    "# Create a Dataframe for number of drug crimes and time of crimes\n",
    "times = drugs_crime_df['Time'].value_counts()\n",
    "drugs_crime_times = pd.DataFrame({\"No. of Crimes\":drugs_crime_df['Time'].value_counts(), \"Time\":times.index})\n",
    "\n",
    "# Change the Time column to a datetime type and format as Hour\n",
    "drugs_crime_times[\"Time\"] = pd.to_datetime(drugs_crime_times[\"Time\"], format='%X').dt.hour\n",
    "\n",
    "# Reset Dataframe index\n",
    "drugs_crime_times = drugs_crime_times.reset_index()\n",
    "  \n",
    "# Group dataframe by Time and count of Time\n",
    "drugs_crime_timess = drugs_crime_times.groupby('Time')['Time'].count()\n",
    "drugs_crime_timess = pd.DataFrame({\"No. of Crimes\":drugs_crime_timess})\n",
    "\n",
    "drugs_crime_timess.head(3)"
   ]
  },
  {
   "cell_type": "code",
   "execution_count": 68,
   "metadata": {},
   "outputs": [
    {
     "data": {
      "image/png": "[encoded data removed]",
      "text/plain": [
       "<Figure size 720x432 with 1 Axes>"
      ]
     },
     "metadata": {},
     "output_type": "display_data"
    }
   ],
   "source": [
    "# Set figure size\n",
    "plt.figure(figsize=(10,6))\n",
    "\n",
    "# Plot the number of drug crimes per year\n",
    "plt.plot(drugs_crime_year['Year'], drugs_crime_year['No. of Drug Crimes'], marker ='o', color='blue', label=\"Drug Crimes\")\n",
    "\n",
    "# Incorporate other graph properties\n",
    "plt.title('Chicago Drug Crimes - 2001 to 2018')\n",
    "plt.xlabel(\"Year\")\n",
    "plt.ylim(0,60000)\n",
    "plt.ylabel(\"No. of Drug Crimes\")\n",
    "plt.legend(loc='best')\n",
    "plt.xticks(np.arange(2001,2019,1), rotation = 65)\n",
    "plt.grid(True)\n",
    "\n",
    "# Save the output\n",
    "plt.savefig(\"Chicago_crimes_Images\\\\Chicago_drug_crimes.png\")\n",
    "\n",
    "plt.show()\n",
    "         "
   ]
  },
  {
   "cell_type": "code",
   "execution_count": 86,
   "metadata": {},
   "outputs": [
    {
     "data": {
      "image/png": "[encoded data removed]",
      "text/plain": [
       "<Figure size 720x432 with 1 Axes>"
      ]
     },
     "metadata": {},
     "output_type": "display_data"
    }
   ],
   "source": [
    "# Labels for the sections of our pie chart\n",
    "labels = ['Theft & Robbery','Assault','Criminal Damage','Other Offenses','Narcotics',\"Sex Crimes\"]\n",
    "\n",
    "# The colors of each section of the pie chart\n",
    "colors = [\"yellow\", \"lightgray\", \"lightcoral\", \"lightskyblue\", \"red\", \"blue\"]\n",
    "\n",
    "# Tells matplotlib to seperate the \"Narcotics\" section from the others\n",
    "explode = (0, 0, 0, 0, 0.2, 0)\n",
    "\n",
    "# Set figure size\n",
    "plt.figure(figsize=(10,6))\n",
    "\n",
    "# Creates the pie chart based upon the values above\n",
    "plt.pie(crimes_df['Primary Type'].value_counts(), explode=explode, labels=labels, colors=colors,\n",
    "        autopct=\"%1.0f%%\", shadow=True, startangle= 180)\n",
    "\n",
    "# Incorporate other chart properties\n",
    "plt.axis(\"equal\")\n",
    "plt.title(\"Crimes in Chicago(%) - 2001 to 2018\")\n",
    "\n",
    "# Save the output\n",
    "plt.savefig(\"Chicago_crimes_Images\\\\Crimes_in_chicago.png\")\n",
    "\n",
    "plt.show()"
   ]
  },
  {
   "cell_type": "code",
   "execution_count": 87,
   "metadata": {},
   "outputs": [
    {
     "data": {
      "image/png": "[encoded data removed]",
      "text/plain": [
       "<Figure size 720x432 with 1 Axes>"
      ]
     },
     "metadata": {},
     "output_type": "display_data"
    }
   ],
   "source": [
    "# Labels for the sections of our pie chart\n",
    "labels = ['Cannabis','Cocaine','Heroin','Others']\n",
    "\n",
    "# The colors of each section of the pie chart\n",
    "colors = [\"lightgreen\", \"pink\", \"yellow\", \"blue\"]\n",
    "\n",
    "# Tells matplotlib to seperate the \"Narcotics\" section from the others\n",
    "explode = (0.1, 0, 0, 0, )\n",
    "\n",
    "# Set figure size\n",
    "plt.figure(figsize=(10,6))\n",
    "\n",
    "# Creates the pie chart based upon the values above\n",
    "plt.pie(drugs_crime_df['Description'].value_counts(), explode=explode, labels=labels, colors=colors,\n",
    "        autopct=\"%1.0f%%\", shadow=True, startangle= 180)\n",
    "\n",
    "# Incorporate other chart properties\n",
    "plt.axis(\"equal\")\n",
    "plt.title(\"Drug Crimes in Chicago(%) - 2001 to 2018\")\n",
    "\n",
    "# Save the output\n",
    "plt.savefig(\"Chicago_crimes_Images\\\\Drug_crimes_chicago.png\")\n",
    "\n",
    "plt.show()"
   ]
  },
  {
   "cell_type": "code",
   "execution_count": 72,
   "metadata": {},
   "outputs": [
    {
     "data": {
      "image/png": "[encoded data removed]",
      "text/plain": [
       "<Figure size 720x432 with 1 Axes>"
      ]
     },
     "metadata": {},
     "output_type": "display_data"
    }
   ],
   "source": [
    "# Assign Variables for plotting  \n",
    "y_axis = all_crime_locations['No. of Drug Crimes']\n",
    "x_axis = all_crime_locations.index\n",
    "color = ['red','blue','cyan','green', 'yellow',]\n",
    "\n",
    "# Set figure size\n",
    "plt.figure(figsize=(10,6))\n",
    "\n",
    "# Create a Bar plot  \n",
    "plt.bar(x_axis, y_axis , color=color, alpha=0.7, align=\"center\")\n",
    "\n",
    "# Incorporate other chart properties\n",
    "plt.title(\" Major locations of Crimes in Chicago\")\n",
    "plt.ylabel(\"No. of Drug Crimes\")\n",
    "plt.xticks(rotation=72)\n",
    "plt.grid(True)\n",
    "\n",
    "# Save the output\n",
    "plt.savefig(\"Chicago_crimes_Images\\\\Crimes_locations_chicago.png\")\n",
    "\n",
    "plt.show()"
   ]
  },
  {
   "cell_type": "code",
   "execution_count": 84,
   "metadata": {},
   "outputs": [
    {
     "data": {
      "image/png": "[encoded data removed]",
      "text/plain": [
       "<Figure size 720x432 with 1 Axes>"
      ]
     },
     "metadata": {},
     "output_type": "display_data"
    }
   ],
   "source": [
    "# Assign Variables for plotting  \n",
    "x_axis = drugs_crime_locations['Location Description']\n",
    "y_axis = drugs_crime_locations['Crime_count']\n",
    "color = ['red','blue','cyan','green', 'yellow', 'purple', 'navy']\n",
    "\n",
    "# Set figure size\n",
    "plt.figure(figsize=(10,6))\n",
    "\n",
    "# Create a Bar plot  \n",
    "plt.bar(x_axis, y_axis , color=color, alpha=0.7, align=\"center\")\n",
    "\n",
    "# Incorporate other chart properties\n",
    "plt.title(\"Locations of Drug Crimes\")\n",
    "plt.ylabel(\"No. of Drug Crimes\")\n",
    "plt.xlabel(\"Crime Location\")\n",
    "plt.xticks(rotation=72)\n",
    "plt.grid(True)\n",
    "\n",
    "# Save the output\n",
    "plt.savefig(\"Chicago_crimes_Images\\\\DrugCrimes_locations_chicago.png\")\n",
    "\n",
    "plt.show()"
   ]
  },
  {
   "cell_type": "code",
   "execution_count": 85,
   "metadata": {},
   "outputs": [
    {
     "data": {
      "image/png": "[encoded data removed]",
      "text/plain": [
       "<Figure size 720x432 with 1 Axes>"
      ]
     },
     "metadata": {},
     "output_type": "display_data"
    }
   ],
   "source": [
    "# Set figure size\n",
    "plt.figure(figsize=(10,6))\n",
    "\n",
    "# Create a Bar plot  \n",
    "plt.bar(drugs_crime_month['Month'], drugs_crime_month['No. of Drug Crimes'] , color='lightskyblue', alpha=0.8, align=\"center\")\n",
    "\n",
    "# Incorporate other chart properties\n",
    "plt.title(\"Drug Crimes per month\")\n",
    "plt.ylabel(\"No. of Drug Crimes\")\n",
    "plt.ylim(10000,60000)\n",
    "plt.xlabel(\"Month\")\n",
    "plt.xticks(rotation=45)\n",
    "plt.grid(True)\n",
    "\n",
    "# Save the output\n",
    "plt.savefig(\"Chicago_crimes_Images\\\\DrugCrimes_months_chicago.png\")\n",
    "\n",
    "plt.show()"
   ]
  },
  {
   "cell_type": "code",
   "execution_count": 88,
   "metadata": {},
   "outputs": [
    {
     "data": {
      "image/png": "[encoded data removed]",
      "text/plain": [
       "<Figure size 720x432 with 1 Axes>"
      ]
     },
     "metadata": {},
     "output_type": "display_data"
    }
   ],
   "source": [
    "# Assign Variables for Bar plot  \n",
    "x_axis = ['12am','1am','2am','3am','4am','5am','6am','7am','8am','9am','10am','11am','12pm',\n",
    "          '1pm','2pm','3pm','4pm','5pm','6pm','7pm','8pm','9pm','10pm','11pm']\n",
    "\n",
    "y_axis = drugs_crime_timesss['No. of Crimes']\n",
    "\n",
    "color = ['lightskyblue','cyan']\n",
    "\n",
    "# Set figure size\n",
    "plt.figure(figsize=(10,6))\n",
    "\n",
    "# Create a Bar plot  \n",
    "plt.bar(x_axis, y_axis , color=color, alpha=0.8, align=\"center\")\n",
    "\n",
    "# Incorporate other chart properties\n",
    "plt.title(\"Drug Crimes per Time of day\")\n",
    "plt.ylabel(\"No. of Drug Crimes\")\n",
    "plt.xlabel(\"Time\")\n",
    "plt.xticks(rotation=85)\n",
    "plt.grid(True)\n",
    "\n",
    "# Save the output\n",
    "plt.savefig(\"Chicago_crimes_Images\\\\DrugCrimes_times_chicago.png\")\n",
    "\n",
    "plt.show()"
   ]
  },
  {
   "cell_type": "code",
   "execution_count": 42,
   "metadata": {},
   "outputs": [
    {
     "data": {
      "application/vnd.jupyter.widget-view+json": {
       "model_id": "dd80cec70fa04d7aa28ba4c32ceff562",
       "version_major": 2,
       "version_minor": 0
      },
      "text/plain": [
       "Figure(layout=FigureLayout(height='420px'))"
      ]
     },
     "metadata": {},
     "output_type": "display_data"
    }
   ],
   "source": [
    "# Set up a variable for longitude and latitude coordinates                                                 \n",
    "coordinates = drugs_crime_df[['Latitude', 'Longitude']]\n",
    "\n",
    "# Customize the size of the figure\n",
    "figure_layout = {\n",
    "    'width': '400px',\n",
    "    'height': '300px',\n",
    "    'border': '1px solid black',\n",
    "    'padding': '1px',\n",
    "    'margin': '0 auto 0 auto'\n",
    "}\n",
    "\n",
    "# Assign layout to a variable\n",
    "fig = gmaps.figure(figure_layout)\n",
    "\n",
    "# Assign the marker layer to a variable\n",
    "markers = gmaps.heatmap_layer(coordinates)\n",
    "\n",
    "# Add the layer to the map\n",
    "fig.add_layer(markers)\n",
    "\n",
    "fig"
   ]
  },
  {
   "cell_type": "code",
   "execution_count": null,
   "metadata": {},
   "outputs": [],
   "source": []
  }
 ],
 "metadata": {
  "kernelspec": {
   "display_name": "Python 3",
   "language": "python",
   "name": "python3"
  },
  "language_info": {
   "codemirror_mode": {
    "name": "ipython",
    "version": 3
   },
   "file_extension": ".py",
   "mimetype": "text/x-python",
   "name": "python",
   "nbconvert_exporter": "python",
   "pygments_lexer": "ipython3",
   "version": "3.6.5"
  }
 },
 "nbformat": 4,
 "nbformat_minor": 2
}
